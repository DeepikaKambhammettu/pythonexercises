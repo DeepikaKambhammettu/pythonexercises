{
  "nbformat": 4,
  "nbformat_minor": 0,
  "metadata": {
    "colab": {
      "provenance": [],
      "toc_visible": true,
      "include_colab_link": true
    },
    "kernelspec": {
      "name": "python3",
      "display_name": "Python 3"
    },
    "language_info": {
      "name": "python"
    }
  },
  "cells": [
    {
      "cell_type": "markdown",
      "metadata": {
        "id": "view-in-github",
        "colab_type": "text"
      },
      "source": [
        "<a href=\"https://colab.research.google.com/github/DeepikaKambhammettu/pythonexercises/blob/main/sample.ipynb\" target=\"_parent\"><img src=\"https://colab.research.google.com/assets/colab-badge.svg\" alt=\"Open In Colab\"/></a>"
      ]
    },
    {
      "cell_type": "code",
      "execution_count": null,
      "metadata": {
        "id": "UD140J8YeEFn",
        "outputId": "72c7e5c2-2731-4f94-8a11-e7f63052514e",
        "colab": {
          "base_uri": "https://localhost:8080/"
        }
      },
      "outputs": [
        {
          "output_type": "stream",
          "name": "stdout",
          "text": [
            "d\n",
            "d\n",
            "d\n",
            "d\n"
          ]
        }
      ],
      "source": [
        "print(\"d\")\n",
        "print(\"d\")\n",
        "print(\"d\")\n",
        "print(\"d\")\n",
        "\n",
        "print(\"e\")"
      ]
    }
  ]
}